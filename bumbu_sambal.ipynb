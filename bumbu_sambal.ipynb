{
 "cells": [
  {
   "cell_type": "code",
   "execution_count": 329,
   "metadata": {},
   "outputs": [],
   "source": [
    "def porsi(n):\n",
    "\n",
    "    # Kelipatan 100 porsi bulat\n",
    "    if n%100 == 0 and n >= 100:\n",
    "        print(f'Sambal 1 Kg >= {int(n/100)} pack')\n",
    "        print(f'Sambal 0,5 Kg >= {(n%100)} pack')\n",
    "        \n",
    "    # Di atas 151 porsi    \n",
    "    elif n%100 >= 51 and n >= 100:\n",
    "        print(f'Sambal 1 Kg >= {int(n/100)} pack')\n",
    "        print(f'Sambal 0,5 Kg >= {round(n%100/100) + 1} pack')\n",
    "        \n",
    "    # Antara 51-100 porsi    \n",
    "    elif n%100 >= 51 and n <= 100:\n",
    "        print(f'Sambal 1 Kg >= {int(round(n%100/100))} pack')\n",
    "        print(f'Sambal 0,5 Kg >= {int(n%100/100)} pack')\n",
    "     \n",
    "    # Antara 100-150 Porsi\n",
    "    elif n%100 <=50 and n >= 100:\n",
    "        print(f'Sambal 1 Kg >= {int(n/100)} pack')\n",
    "        print(f'Sambal 0,5 Kg >= {int(n%100/100) + 1} pack')\n",
    "        \n",
    "    # Di bawah 50 porsi    \n",
    "    elif n%100 <=50 and n <= 100:\n",
    "        print(f'Sambal 1 Kg >= {round(n/100)} pack')\n",
    "        print(f'Sambal 0,5 Kg >= {int(n%100/100) + 1} pack')\n",
    "    else:\n",
    "        return False\n",
    "    "
   ]
  },
  {
   "cell_type": "code",
   "execution_count": 332,
   "metadata": {},
   "outputs": [
    {
     "name": "stdout",
     "output_type": "stream",
     "text": [
      "Sambal 1 Kg >= 0 pack\n",
      "Sambal 0,5 Kg >= 1 pack\n"
     ]
    }
   ],
   "source": [
    "porsi(49)"
   ]
  },
  {
   "cell_type": "code",
   "execution_count": null,
   "metadata": {},
   "outputs": [],
   "source": []
  },
  {
   "cell_type": "code",
   "execution_count": 345,
   "metadata": {},
   "outputs": [],
   "source": [
    "def num(a,b,c):\n",
    "    return a*4 + b*9 + c*10"
   ]
  },
  {
   "cell_type": "code",
   "execution_count": 346,
   "metadata": {},
   "outputs": [
    {
     "data": {
      "text/plain": [
       "88"
      ]
     },
     "execution_count": 346,
     "metadata": {},
     "output_type": "execute_result"
    }
   ],
   "source": [
    "num(10,2,3)"
   ]
  },
  {
   "cell_type": "code",
   "execution_count": 359,
   "metadata": {},
   "outputs": [],
   "source": [
    "def num(a,b,c):\n",
    "    # a = ayam parting 4; b = ayam parting 9; c = ayam fillet\n",
    "    n = a*4 + b*9 + c*10\n",
    "    def porsi(n):\n",
    "\n",
    "    # Kelipatan 100 porsi bulat\n",
    "        if n%100 == 0 and n >= 100:\n",
    "            print(f'Sambal 1 Kg >= {int(n/100)} pack')\n",
    "            print(f'Sambal 0,5 Kg >= {(n%100)} pack')\n",
    "        \n",
    "    # Di atas 151 porsi    \n",
    "        elif n%100 >= 51 and n >= 100:\n",
    "            print(f'Sambal 1 Kg >= {int(n/100)} pack')\n",
    "            print(f'Sambal 0,5 Kg >= {round(n%100/100) + 1} pack')\n",
    "        \n",
    "    # Antara 51-100 porsi    \n",
    "        elif n%100 >= 51 and n <= 100:\n",
    "            print(f'Sambal 1 Kg >= {int(round(n%100/100))} pack')\n",
    "            print(f'Sambal 0,5 Kg >= {int(n%100/100)} pack')\n",
    "     \n",
    "    # Antara 100-150 Porsi\n",
    "        elif n%100 <=50 and n >= 100:\n",
    "            print(f'Sambal 1 Kg >= {int(n/100)} pack')\n",
    "            print(f'Sambal 0,5 Kg >= {int(n%100/100) + 1} pack')\n",
    "        \n",
    "    # Di bawah 50 porsi    \n",
    "        elif n%100 <=50 and n <= 100:\n",
    "            print(f'Sambal 1 Kg >= {round(n/100)} pack')\n",
    "            print(f'Sambal 0,5 Kg >= {int(n%100/100) + 1} pack')\n",
    "        else:\n",
    "            return False\n",
    "\n",
    "    return n        "
   ]
  },
  {
   "cell_type": "code",
   "execution_count": 369,
   "metadata": {},
   "outputs": [
    {
     "name": "stdout",
     "output_type": "stream",
     "text": [
      "Sambal 1 Kg >= 1 pack\n",
      "Sambal 0,5 Kg >= 2 pack\n"
     ]
    }
   ],
   "source": [
    "porsi(199)"
   ]
  },
  {
   "cell_type": "code",
   "execution_count": null,
   "metadata": {},
   "outputs": [],
   "source": []
  },
  {
   "cell_type": "code",
   "execution_count": null,
   "metadata": {},
   "outputs": [],
   "source": []
  },
  {
   "cell_type": "code",
   "execution_count": null,
   "metadata": {},
   "outputs": [],
   "source": []
  },
  {
   "cell_type": "code",
   "execution_count": 360,
   "metadata": {},
   "outputs": [
    {
     "data": {
      "text/plain": [
       "88"
      ]
     },
     "execution_count": 360,
     "metadata": {},
     "output_type": "execute_result"
    }
   ],
   "source": [
    "num(10,2,3)"
   ]
  },
  {
   "cell_type": "code",
   "execution_count": null,
   "metadata": {},
   "outputs": [],
   "source": []
  },
  {
   "cell_type": "code",
   "execution_count": null,
   "metadata": {},
   "outputs": [],
   "source": []
  },
  {
   "cell_type": "code",
   "execution_count": 361,
   "metadata": {},
   "outputs": [
    {
     "name": "stdout",
     "output_type": "stream",
     "text": [
      "Sambal 1 Kg >= 1 pack\n",
      "Sambal 0,5 Kg >= 0 pack\n"
     ]
    }
   ],
   "source": [
    "# a = ayam parting 4; b = ayam parting 9; c = ayam fillet\n",
    "porsi(num(10,2,3))"
   ]
  },
  {
   "cell_type": "code",
   "execution_count": null,
   "metadata": {},
   "outputs": [],
   "source": []
  },
  {
   "cell_type": "code",
   "execution_count": 370,
   "metadata": {},
   "outputs": [
    {
     "data": {
      "text/plain": [
       "2"
      ]
     },
     "execution_count": 370,
     "metadata": {},
     "output_type": "execute_result"
    }
   ],
   "source": [
    "round(1.5)"
   ]
  },
  {
   "cell_type": "code",
   "execution_count": 376,
   "metadata": {},
   "outputs": [
    {
     "data": {
      "text/plain": [
       "1"
      ]
     },
     "execution_count": 376,
     "metadata": {},
     "output_type": "execute_result"
    }
   ],
   "source": [
    "int(1.9)"
   ]
  },
  {
   "cell_type": "code",
   "execution_count": 1,
   "metadata": {},
   "outputs": [],
   "source": [
    "def num(a,b,c):\n",
    "    # a = ayam parting 4; b = ayam parting 9; c = ayam fillet\n",
    "    return a*4 + b*9 + c*10\n",
    "    \n",
    "    def porsi(n):\n",
    "\n",
    "    # Kelipatan 100 porsi bulat\n",
    "        if n%100 == 0 and n >= 100:\n",
    "            print(f'Sambal diorder >= {int(n/100)} Kg')\n",
    "        \n",
    "    # Di atas 151 porsi    \n",
    "        elif n%100 >= 51 and n >= 100:\n",
    "            print(f'Sambal diorder >= {round(n/100)} Kg')\n",
    "        \n",
    "        \n",
    "    # Antara 51-100 porsi    \n",
    "        elif n%100 >= 51 and n <= 100:\n",
    "            print(f'Sambal diorder >= {round(n%100/100)} Kg')\n",
    "        \n",
    "     \n",
    "    # Antara 101-150 Porsi\n",
    "        elif n%100 <=50 and n >= 100:\n",
    "            print(f'Sambal diorder >= {int(n/100) + 0.5} Kg')\n",
    "    \n",
    "        \n",
    "    # Di bawah 50 porsi    \n",
    "        elif n%100 <=50 and n <= 100:\n",
    "            print(f'Sambal diorder >= {(50/100)} Kg')\n",
    "        \n",
    "        else:\n",
    "            return False\n",
    "\n",
    "           "
   ]
  },
  {
   "cell_type": "code",
   "execution_count": 444,
   "metadata": {},
   "outputs": [
    {
     "name": "stdout",
     "output_type": "stream",
     "text": [
      "Sambal diorder >= 2 Kg\n"
     ]
    }
   ],
   "source": [
    "porsi(155)"
   ]
  }
 ],
 "metadata": {
  "kernelspec": {
   "display_name": "Python 3",
   "language": "python",
   "name": "python3"
  },
  "language_info": {
   "codemirror_mode": {
    "name": "ipython",
    "version": 3
   },
   "file_extension": ".py",
   "mimetype": "text/x-python",
   "name": "python",
   "nbconvert_exporter": "python",
   "pygments_lexer": "ipython3",
   "version": "3.7.4"
  }
 },
 "nbformat": 4,
 "nbformat_minor": 2
}
